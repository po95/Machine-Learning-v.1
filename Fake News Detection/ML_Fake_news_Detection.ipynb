{
 "cells": [
  {
   "cell_type": "markdown",
   "metadata": {
    "id": "l0hbIQFnkvcU",
    "colab_type": "text"
   },
   "source": [
    "#<center> Fake news Detection </center>\n"
   ]
  },
  {
   "cell_type": "code",
   "execution_count": 0,
   "metadata": {
    "id": "crLqRDVEkuiA",
    "colab_type": "code",
    "colab": {
     "autoexec": {
      "startup": false,
      "wait_interval": 0.0
     }
    }
   },
   "outputs": [],
   "source": [
    "#libraries\n",
    "import numpy as np\n",
    "import pandas as pd\n",
    "from numpy import genfromtxt\n",
    "from google.colab import files\n",
    "\n",
    "#text data config : nltk library\n",
    "from nltk.stem.snowball import SnowballStemmer\n",
    "from nltk.stem import PorterStemmer\n",
    "from nltk.tokenize import word_tokenize, sent_tokenize\n",
    "\n",
    "from sklearn.feature_extraction.text import CountVectorizer\n",
    "from sklearn.feature_extraction.text import TfidfVectorizer\n",
    "from sklearn.metrics import accuracy_score\n",
    "from sklearn.metrics import confusion_matrix\n",
    "from sklearn.model_selection import train_test_split\n",
    "import itertools\n",
    "\n",
    "#to_plot_graph \n",
    "import matplotlib.pyplot as plt\n",
    "\n"
   ]
  },
  {
   "cell_type": "code",
   "execution_count": 3,
   "metadata": {
    "id": "qUJFnAJs4aS9",
    "colab_type": "code",
    "colab": {
     "autoexec": {
      "startup": false,
      "wait_interval": 0.0
     },
     "base_uri": "https://localhost:8080/",
     "height": 72.0
    },
    "outputId": "dbd63409-df3d-4899-cc5f-f9a5a1f0c0e3",
    "executionInfo": {
     "status": "ok",
     "timestamp": 1.531640161964E12,
     "user_tz": -360.0,
     "elapsed": 382339.0,
     "user": {
      "displayName": "Sourav sarker",
      "photoUrl": "//lh6.googleusercontent.com/-vhAj6CsQ9iM/AAAAAAAAAAI/AAAAAAAAAZE/1hebVpIcm44/s50-c-k-no/photo.jpg",
      "userId": "117447661806334206405"
     }
    }
   },
   "outputs": [
    {
     "data": {
      "text/html": [
       "\n",
       "     <input type=\"file\" id=\"files-443a3486-5276-4ef6-85f4-2653d85bc2cc\" name=\"files[]\" multiple disabled />\n",
       "     <output id=\"result-443a3486-5276-4ef6-85f4-2653d85bc2cc\">\n",
       "      Upload widget is only available when the cell has been executed in the\n",
       "      current browser session. Please rerun this cell to enable.\n",
       "      </output>\n",
       "      <script src=\"/nbextensions/google.colab/files.js\"></script> "
      ],
      "text/plain": [
       "<IPython.core.display.HTML object>"
      ]
     },
     "metadata": {
      "tags": []
     },
     "output_type": "execute_result"
    },
    {
     "name": "stdout",
     "output_type": "stream",
     "text": [
      "Saving fakenews.csv to fakenews.csv\n"
     ]
    }
   ],
   "source": [
    "#Dataset\n",
    "uploaded = files.upload()\n",
    "data = pd.read_csv(\"fakenews.csv\")\n",
    "#print(data)\n",
    "text = data.text\n",
    "label = data.label\n",
    "x_train, x_test, y_train, y_test = train_test_split(text,label,test_size=0.30)\n",
    "\n",
    "#feature extraction\n",
    "\n",
    "countvectorizer = CountVectorizer()\n",
    "count_train = countvectorizer.fit_transform(x_train)\n",
    "count_test = countvectorizer.transform(x_test)\n",
    "\n",
    "tfidf_vector = TfidfVectorizer(max_df=0.7)\n",
    "tfidf_train = tfidf_vector.fit_transform(x_train)\n",
    "tfidf_test = tfidf_vector.transform(x_test)\n",
    "\n",
    "feature_arr = tfidf_vector.get_feature_names()\n",
    "\n",
    "tfidf_df = pd.DataFrame(tfidf_train.A, columns  = tfidf_vector.get_feature_names())\n",
    "\n",
    "#print(tfidf_df)\n",
    "\n"
   ]
  },
  {
   "cell_type": "code",
   "execution_count": 0,
   "metadata": {
    "id": "FrBSQOPX4hqF",
    "colab_type": "code",
    "colab": {
     "autoexec": {
      "startup": false,
      "wait_interval": 0.0
     }
    }
   },
   "outputs": [],
   "source": [
    "#Plotting graph\n",
    "def plot_confusion_matrix(cm, classes,\n",
    "                          normalize=False,\n",
    "                          title='Confusion matrix',\n",
    "                          cmap=plt.cm.Blues):\n",
    "   \n",
    "    plt.imshow(cm, interpolation='nearest', cmap=cmap)\n",
    "    plt.title(title)\n",
    "    plt.colorbar()\n",
    "    tick_marks = np.arange(len(classes))\n",
    "    plt.xticks(tick_marks, classes, rotation=45)\n",
    "    plt.yticks(tick_marks, classes)\n",
    "\n",
    "    if normalize:\n",
    "        cm = cm.astype('float') / cm.sum(axis=1)[:, np.newaxis]\n",
    "        print(\"Normalized confusion matrix\")\n",
    "    else:\n",
    "        print('')\n",
    "#         print('Confusion matrix, with little normalization')\n",
    "\n",
    "    thresh = cm.max() / 2.\n",
    "    for i, j in itertools.product(range(cm.shape[0]), range(cm.shape[1])):\n",
    "        plt.text(j, i, cm[i, j],\n",
    "                 horizontalalignment=\"center\",\n",
    "                 color=\"white\" if cm[i, j] > thresh else \"black\")\n",
    "\n",
    "    plt.tight_layout()\n",
    "    plt.ylabel('True label')\n",
    "    plt.xlabel('Predicted label')\n",
    "    plt.rcParams['figure.figsize'] = [10, 10]\n",
    "    plt.show()\n"
   ]
  },
  {
   "cell_type": "code",
   "execution_count": 7,
   "metadata": {
    "id": "TK1mloqWRiGl",
    "colab_type": "code",
    "colab": {
     "autoexec": {
      "startup": false,
      "wait_interval": 0.0
     },
     "base_uri": "https://localhost:8080/",
     "height": 102.0
    },
    "outputId": "f8e5bab0-a364-471e-e05f-7d784be6af74",
    "executionInfo": {
     "status": "ok",
     "timestamp": 1.531640463313E12,
     "user_tz": -360.0,
     "elapsed": 823.0,
     "user": {
      "displayName": "Sourav sarker",
      "photoUrl": "//lh6.googleusercontent.com/-vhAj6CsQ9iM/AAAAAAAAAAI/AAAAAAAAAZE/1hebVpIcm44/s50-c-k-no/photo.jpg",
      "userId": "117447661806334206405"
     }
    }
   },
   "outputs": [
    {
     "name": "stdout",
     "output_type": "stream",
     "text": [
      "[nltk_data] Downloading package stopwords to /content/nltk_data...\n",
      "[nltk_data]   Unzipping corpora/stopwords.zip.\n",
      "[nltk_data] Downloading package punkt to /content/nltk_data...\n",
      "[nltk_data]   Package punkt is already up-to-date!\n"
     ]
    },
    {
     "data": {
      "text/plain": [
       "True"
      ]
     },
     "execution_count": 7,
     "metadata": {
      "tags": []
     },
     "output_type": "execute_result"
    }
   ],
   "source": [
    "import nltk\n",
    "nltk.download('stopwords')\n",
    "nltk.download('punkt')\n"
   ]
  },
  {
   "cell_type": "code",
   "execution_count": 0,
   "metadata": {
    "id": "DutGSKERN6mK",
    "colab_type": "code",
    "colab": {
     "autoexec": {
      "startup": false,
      "wait_interval": 0.0
     }
    }
   },
   "outputs": [],
   "source": [
    "#stemmer\n",
    "from nltk.stem.snowball import SnowballStemmer\n",
    "stemmer = SnowballStemmer(\"english\", ignore_stopwords=True)\n",
    "def stem_func(text):\n",
    "    words = word_tokenize(text)\n",
    "    str1 = \"\";\n",
    "    for w in words:\n",
    "        str1 = str1 + \" \" + stemmer.stem(w)\n",
    "    return str1\n",
    "  \n",
    "news = data['text']\n",
    "y = data.label \n",
    "index_array = y.index.values\n",
    "verdict = []\n",
    "stemmed_news = []\n",
    "for index in index_array:\n",
    "    val = y.at[index]\n",
    "    verdict.append(val)\n",
    "    stemmed_n = stem_func(news.at[index])\n",
    "    stemmed_news.append(stemmed_n)\n",
    "   "
   ]
  },
  {
   "cell_type": "code",
   "execution_count": 0,
   "metadata": {
    "id": "49sf4b2dRMoq",
    "colab_type": "code",
    "colab": {
     "autoexec": {
      "startup": false,
      "wait_interval": 0.0
     }
    }
   },
   "outputs": [],
   "source": [
    "X_train, X_test, y_train, y_test = train_test_split(stemmed_news, verdict, test_size=0.4, random_state=53)\n",
    "\n",
    "\n",
    "tfidf_vectorizer = TfidfVectorizer(stop_words='english', max_df=0.7) \n",
    "tfidf_train = tfidf_vectorizer.fit_transform(X_train) \n",
    "tfidf_test = tfidf_vectorizer.transform(X_test)\n"
   ]
  },
  {
   "cell_type": "code",
   "execution_count": 14,
   "metadata": {
    "id": "7N9bElvVlYIg",
    "colab_type": "code",
    "colab": {
     "autoexec": {
      "startup": false,
      "wait_interval": 0.0
     },
     "base_uri": "https://localhost:8080/",
     "height": 68.0
    },
    "outputId": "fd0c0ae3-d5b5-4db3-d0e2-437fa71b561b",
    "executionInfo": {
     "status": "ok",
     "timestamp": 1.531640901354E12,
     "user_tz": -360.0,
     "elapsed": 5390.0,
     "user": {
      "displayName": "Sourav sarker",
      "photoUrl": "//lh6.googleusercontent.com/-vhAj6CsQ9iM/AAAAAAAAAAI/AAAAAAAAAZE/1hebVpIcm44/s50-c-k-no/photo.jpg",
      "userId": "117447661806334206405"
     }
    }
   },
   "outputs": [
    {
     "name": "stdout",
     "output_type": "stream",
     "text": [
      "78.88713496448302\n",
      "[[ 956  280]\n",
      " [ 255 1043]]\n"
     ]
    }
   ],
   "source": [
    "#classifier\n",
    "#naive bayes\n",
    "from sklearn.naive_bayes import MultinomialNB\n",
    "from sklearn.naive_bayes import GaussianNB\n",
    "clf_nav = MultinomialNB()\n",
    "clf_nav = GaussianNB()\n",
    "clf_nav.fit(tfidf_train.todense(),y_train)\n",
    "# nav_predict = clf_nav.predict(tfidf_test.todense())\n",
    "#print(clf_nav.predict(tfidf_test[1].todense()))\n",
    "#print(type(y_test))\n",
    "test_score = accuracy_score(nav_predict,y_test)\n",
    "print(test_score*100)\n",
    "#print(confusion_mat)\n",
    "nav_predict = clf_nav.predict(tfidf_test.todense())\n",
    "confusion_mat = confusion_matrix(y_test, nav_predict, labels=['FAKE', 'REAL'])\n",
    "plot_confusion_matrix(confusion_mat, \n",
    "                      classes=['FAKE', 'REAL'], \n",
    "                      title=\"Confusion Matrix for \\n Naive Bayes Classifier\",\n",
    "                      cmap = plt.confusion_mat.Greys\n",
    "                     )\n",
    "\n"
   ]
  },
  {
   "cell_type": "code",
   "execution_count": 0,
   "metadata": {
    "id": "h2-FMy_k0bKG",
    "colab_type": "code",
    "colab": {
     "autoexec": {
      "startup": false,
      "wait_interval": 0.0
     }
    }
   },
   "outputs": [],
   "source": [
    "#classifier\n",
    "#svm\n",
    "from sklearn.svm import SVC\n",
    "clf_svm = SVC()\n",
    "clf_svm.fit(tfidf_train.todense(),y_train)\n",
    "svm_predict = clf_svm.predict(tfidf_test.todense())\n",
    "# print(clf_svm.predict(tfidf_test[1].todense()))\n",
    "# print(list(y_test)[1])\n",
    "test_score = accuracy_score(svm_predict,y_test)\n",
    "print(test_score*100)\n",
    "\n",
    "svm_predict = clf_svm.predict(tfidf_test.todense())\n",
    "confusion_mat = confusion_matrix(y_test, svm_predict, labels=['FAKE', 'REAL'])\n",
    "plot_confusion_matrix(confusion_mat, \n",
    "                      classes=['FAKE', 'REAL'], \n",
    "                      title=\"Confusion Matrix for \\n Support Vector Machine Classifier \",\n",
    "                      cmap = plt.confusion_mat.Greens\n",
    "                     )"
   ]
  },
  {
   "cell_type": "code",
   "execution_count": 0,
   "metadata": {
    "id": "x6RTiAaA5KGv",
    "colab_type": "code",
    "colab": {
     "autoexec": {
      "startup": false,
      "wait_interval": 0.0
     }
    }
   },
   "outputs": [],
   "source": [
    "#Decision Tree\n",
    "from sklearn.tree import DecisionTreeClassifier\n",
    "clf_tree= DecisionTreeClassifier()\n",
    "clf_tree.fit(tfidf_train.todense(),y_train)\n",
    "print(clf_tree.predict(tfidf_test[1].todense()))\n",
    "print(list(y_test)[1])\n",
    "test_score = accuracy_score(clf_tree.predict(tfidf_test.todense()),y_test)\n",
    "print(test_score1*100)\n",
    "\n",
    "Dt_predict = clf_tree.predict(tfidf_test.todense())\n",
    "confusion_mat = confusion_matrix(y_test, Dt_predict, labels=['FAKE', 'REAL'])\n",
    "plot_confusion_matrix(confusion_mat, \n",
    "                      classes=['FAKE', 'REAL'], \n",
    "                      title=\"Confusion Matrix for \\n Decision Tree Classifier \",\n",
    "                      cmap = plt.confusion_mat.Blues\n",
    "                     )"
   ]
  },
  {
   "cell_type": "code",
   "execution_count": 0,
   "metadata": {
    "id": "bb7ikUqRXdTU",
    "colab_type": "code",
    "colab": {
     "autoexec": {
      "startup": false,
      "wait_interval": 0.0
     }
    }
   },
   "outputs": [],
   "source": [
    "#Neural Network\n",
    "from sklearn.neural_network import MLPClassifier\n",
    "clf = MLPClassifier(solver='lbfgs', alpha=1e-5, hidden_layer_sizes=(5, 2), random_state=1)\n",
    "clf.fit(tfidf_train.todense(),y_train)\n",
    "print(clf.predict(tfidf_test[1].todense()))\n",
    "print(list(y_test)[1])\n",
    "test_score1 = accuracy_score(clf.predict(tfidf_test.todense()),y_test)\n",
    "print(test_score1*100)\n",
    "\n",
    "nn_predict = clf.predict(tfidf_test.todense())\n",
    "confusion_mat = confusion_matrix(y_test, nn_predict, labels=['FAKE', 'REAL'])\n",
    "plot_confusion_matrix(confusion_mat, \n",
    "                      classes=['FAKE', 'REAL'], \n",
    "                      title=\"Confusion Matrix for \\n Multi Layer Perceptron \",\n",
    "                      cmap = plt.confusion_mat.Reds\n",
    "                     )"
   ]
  },
  {
   "cell_type": "markdown",
   "metadata": {
    "id": "7WufLvU92f4L",
    "colab_type": "text"
   },
   "source": [
    "#<center> Documentation </center>\n",
    "Graph Doumentation See full source and example: http://scikit-learn.org/stable/auto_examples/model_selection/plot_confusion_matrix.html"
   ]
  }
 ],
 "metadata": {
  "colab": {
   "name": "ML Fake news Detection.ipynb",
   "version": "0.3.2",
   "views": {},
   "default_view": {},
   "provenance": []
  },
  "kernelspec": {
   "name": "python3",
   "display_name": "Python 3"
  }
 },
 "nbformat": 4,
 "nbformat_minor": 0
}
