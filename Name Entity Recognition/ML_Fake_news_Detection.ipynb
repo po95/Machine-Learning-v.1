{
  "nbformat": 4,
  "nbformat_minor": 0,
  "metadata": {
    "colab": {
      "name": "ML Fake news Detection.ipynb",
      "version": "0.3.2",
      "views": {},
      "default_view": {},
      "provenance": []
    },
    "kernelspec": {
      "name": "python3",
      "display_name": "Python 3"
    }
  },
  "cells": [
    {
      "metadata": {
        "id": "l0hbIQFnkvcU",
        "colab_type": "text"
      },
      "cell_type": "markdown",
      "source": [
        "#<center> Fake news Detection </center>\n"
      ]
    },
    {
      "metadata": {
        "id": "crLqRDVEkuiA",
        "colab_type": "code",
        "colab": {
          "autoexec": {
            "startup": false,
            "wait_interval": 0
          }
        }
      },
      "cell_type": "code",
      "source": [
        "#libraries\n",
        "import numpy as np\n",
        "import pandas as pd\n",
        "from numpy import genfromtxt\n",
        "#from google.colab import files\n",
        "\n",
        "#text data config : nltk library\n",
        "# from nltk.stem import snowball \n",
        "# from nltk.stem import PorterStemmer\n",
        "# from nltk.tokenize import word_tokenize, sent_tokenize\n",
        "\n",
        "from sklearn.feature_extraction.text import CountVectorizer\n",
        "from sklearn.feature_extraction.text import TfidfVectorizer\n",
        "from sklearn.metrics import accuracy_score\n",
        "from sklearn.model_selection import train_test_split\n",
        "import itertools\n",
        "\n",
        "#to_plot_graph \n",
        "import matplotlib.pyplot as plt\n",
        "\n"
      ],
      "execution_count": 0,
      "outputs": []
    },
    {
      "metadata": {
        "id": "qUJFnAJs4aS9",
        "colab_type": "code",
        "colab": {
          "autoexec": {
            "startup": false,
            "wait_interval": 0
          },
          "base_uri": "https://localhost:8080/",
          "height": 72
        },
        "outputId": "51083766-9420-4e91-9e61-71c78f2cd7bd",
        "executionInfo": {
          "status": "ok",
          "timestamp": 1531317474184,
          "user_tz": -360,
          "elapsed": 416184,
          "user": {
            "displayName": "Sourav sarker",
            "photoUrl": "//lh6.googleusercontent.com/-vhAj6CsQ9iM/AAAAAAAAAAI/AAAAAAAAAZE/1hebVpIcm44/s50-c-k-no/photo.jpg",
            "userId": "117447661806334206405"
          }
        }
      },
      "cell_type": "code",
      "source": [
        "#Dataset\n",
        "#uploaded = files.upload()\n",
        "data = pd.read_csv(\"fakenews.csv\")\n",
        "#print(data)\n",
        "text = data.text\n",
        "label = data.label\n",
        "x_train, x_test, y_train, y_test = train_test_split(text,label,test_size=0.30)\n",
        "\n",
        "#feature extraction\n",
        "\n",
        "countvectorizer = CountVectorizer()\n",
        "count_train = countvectorizer.fit_transform(x_train)\n",
        "count_test = countvectorizer.transform(x_test)\n",
        "\n",
        "tfidf_vector = TfidfVectorizer(max_df=0.7)\n",
        "tfidf_train = tfidf_vector.fit_transform(x_train)\n",
        "tfidf_test = tfidf_vector.transform(x_test)\n",
        "\n",
        "feature_arr = tfidf_vector.get_feature_names()\n",
        "\n",
        "tfidf_df = pd.DataFrame(tfidf_train.A, columns  = tfidf_vector.get_feature_names())\n",
        "\n",
        "#print(tfidf_df)\n",
        "\n"
      ],
      "execution_count": 0,
      "outputs": [
        {
          "output_type": "display_data",
          "data": {
            "text/html": [
              "\n",
              "     <input type=\"file\" id=\"files-9d67dd7d-124c-4e13-ba0e-a790905d86fd\" name=\"files[]\" multiple disabled />\n",
              "     <output id=\"result-9d67dd7d-124c-4e13-ba0e-a790905d86fd\">\n",
              "      Upload widget is only available when the cell has been executed in the\n",
              "      current browser session. Please rerun this cell to enable.\n",
              "      </output>\n",
              "      <script src=\"/nbextensions/google.colab/files.js\"></script> "
            ],
            "text/plain": [
              "<IPython.core.display.HTML object>"
            ]
          },
          "metadata": {
            "tags": []
          }
        },
        {
          "output_type": "stream",
          "text": [
            "Saving fakenews.csv to fakenews.csv\n"
          ],
          "name": "stdout"
        }
      ]
    },
    {
      "metadata": {
        "id": "FrBSQOPX4hqF",
        "colab_type": "code",
        "colab": {
          "autoexec": {
            "startup": false,
            "wait_interval": 0
          }
        }
      },
      "cell_type": "code",
      "source": [
        "#Plotting graph\n",
        "def plot_confusion_matrix(cm, classes,\n",
        "                          normalize=False,\n",
        "                          title='Confusion matrix',\n",
        "                          cmap=plt.cm.Blues):\n",
        "   \n",
        "    plt.imshow(cm, interpolation='nearest', cmap=cmap)\n",
        "    plt.title(title)\n",
        "    plt.colorbar()\n",
        "    tick_marks = np.arange(len(classes))\n",
        "    plt.xticks(tick_marks, classes, rotation=45)\n",
        "    plt.yticks(tick_marks, classes)\n",
        "\n",
        "    if normalize:\n",
        "        cm = cm.astype('float') / cm.sum(axis=1)[:, np.newaxis]\n",
        "        print(\"Normalized confusion matrix\")\n",
        "    else:\n",
        "        print('')\n",
        "#         print('Confusion matrix, with little normalization')\n",
        "\n",
        "    thresh = cm.max() / 2.\n",
        "    for i, j in itertools.product(range(cm.shape[0]), range(cm.shape[1])):\n",
        "        plt.text(j, i, cm[i, j],\n",
        "                 horizontalalignment=\"center\",\n",
        "                 color=\"white\" if cm[i, j] > thresh else \"black\")\n",
        "\n",
        "    plt.tight_layout()\n",
        "    plt.ylabel('True label')\n",
        "    plt.xlabel('Predicted label')\n",
        "    plt.rcParams['figure.figsize'] = [10, 10]\n",
        "    plt.show()\n"
      ],
      "execution_count": 0,
      "outputs": []
    },
    {
      "metadata": {
        "id": "7N9bElvVlYIg",
        "colab_type": "code",
        "colab": {
          "autoexec": {
            "startup": false,
            "wait_interval": 0
          },
          "base_uri": "https://localhost:8080/",
          "height": 68
        },
        "outputId": "f3b4c3e6-3d3d-4434-e69b-1a2714e0a09c",
        "executionInfo": {
          "status": "ok",
          "timestamp": 1531320799038,
          "user_tz": -360,
          "elapsed": 7129,
          "user": {
            "displayName": "Sourav sarker",
            "photoUrl": "//lh6.googleusercontent.com/-vhAj6CsQ9iM/AAAAAAAAAAI/AAAAAAAAAZE/1hebVpIcm44/s50-c-k-no/photo.jpg",
            "userId": "117447661806334206405"
          }
        }
      },
      "cell_type": "code",
      "source": [
        "#classifier\n",
        "#naive bayes\n",
        "from sklearn.naive_bayes import GaussianNB\n",
        "clf_nav = GaussianNB()\n",
        "clf_nav.fit(tfidf_train.todense(),y_train)\n",
        "print(clf_nav.predict(tfidf_test[1].todense()))\n",
        "print(type(y_test))\n",
        "test_score = accuracy_score(clf_nav.predict(tfidf_test.todense()),y_test)\n",
        "print(test_score*100)"
      ],
      "execution_count": 0,
      "outputs": [
        {
          "output_type": "stream",
          "text": [
            "['REAL']\n",
            "<class 'pandas.core.series.Series'>\n",
            "80.48395581273014\n"
          ],
          "name": "stdout"
        }
      ]
    }
  ]
}